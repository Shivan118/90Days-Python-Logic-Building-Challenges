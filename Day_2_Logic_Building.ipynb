{
 "cells": [
  {
   "cell_type": "markdown",
   "metadata": {},
   "source": [
    "## Question:\n",
    "\n",
    "- You are given a list of integers, where each integer appears at most twice. Write a Python function to find and return all duplicate integers in the list. The function should return a list of duplicates in the order they first appear."
   ]
  },
  {
   "cell_type": "markdown",
   "metadata": {},
   "source": [
    "### <span style=\"color: red;\"> Logic Building - Using a Set </span>\n",
    "\n",
    "**Idea:**\n",
    "\n",
    "- Use a set to keep track of the numbers we have already seen.\n",
    "- If we see a number again that’s already in the set, it’s a duplicate.\n",
    "\n",
    "##### Steps:\n",
    "\n",
    "1. **Create two sets:** one to keep track of seen numbers and another to store duplicates.\n",
    "2. **Loop through each number in the list:**\n",
    "    - If the number is already in the `seen` set, add it to the `duplicates` set.\n",
    "    - If it’s not in the `seen` set, add it to the \"seen\" set.\n",
    "3. Convert the duplicates set to a list and return it."
   ]
  },
  {
   "cell_type": "code",
   "execution_count": 1,
   "metadata": {},
   "outputs": [],
   "source": [
    "def find_duplicates(nums):\n",
    "    seen = set()\n",
    "    duplicates = set()\n",
    "    for num in nums:\n",
    "        if num in seen:\n",
    "            duplicates.add(num)\n",
    "        else:\n",
    "            seen.add(num)\n",
    "    return list(duplicates)"
   ]
  },
  {
   "cell_type": "code",
   "execution_count": 3,
   "metadata": {},
   "outputs": [
    {
     "data": {
      "text/plain": [
       "[2, 3]"
      ]
     },
     "execution_count": 3,
     "metadata": {},
     "output_type": "execute_result"
    }
   ],
   "source": [
    "find_duplicates([1, 3, 4, 2, 2, 3])"
   ]
  },
  {
   "cell_type": "markdown",
   "metadata": {},
   "source": [
    "**Example:**\n",
    "\n",
    "- Input: `[1, 3, 4, 2, 2, 3]`\n",
    "- Process:\n",
    "    - `1` → add to `seen`\n",
    "    - `3` → add to `seen`\n",
    "    - `4` → add to `seen`\n",
    "    - `2` → add to `seen`\n",
    "    - `2` → already in `seen`, add to `duplicates`\n",
    "    - `3` → already in `seen`, add to `duplicates`\n",
    "\n",
    "**Final Output:** [2, 3]"
   ]
  },
  {
   "cell_type": "markdown",
   "metadata": {},
   "source": [
    "### <span style=\"color: red;\"> Logic Building - Using a Dictionary</span>\n",
    "\n",
    "\n",
    "**Idea:**\n",
    "\n",
    "- Use a dictionary to count how many times each number appears.\n",
    "- Any number that appears more than once is a duplicate.\n",
    "\n",
    "**Steps:**\n",
    "\n",
    "1. Create a dictionary to count occurrences of each number.\n",
    "2. Loop through each number in the list:\n",
    "    - Update the count for each number in the dictionary.\n",
    "3. Loop through the dictionary:\n",
    "    - If any number has a count greater than 1, add it to the duplicates list.\n",
    "4. Return the list of duplicates."
   ]
  },
  {
   "cell_type": "code",
   "execution_count": 4,
   "metadata": {},
   "outputs": [],
   "source": [
    "def find_duplicates(nums):\n",
    "    counts = {}\n",
    "    duplicates = []\n",
    "    for num in nums:\n",
    "        if num in counts:\n",
    "            counts[num] += 1\n",
    "        else:\n",
    "            counts[num] = 1\n",
    "    for num, count in counts.items():\n",
    "        if count > 1:\n",
    "            duplicates.append(num)\n",
    "    return duplicates"
   ]
  },
  {
   "cell_type": "code",
   "execution_count": 5,
   "metadata": {},
   "outputs": [
    {
     "data": {
      "text/plain": [
       "[3, 2]"
      ]
     },
     "execution_count": 5,
     "metadata": {},
     "output_type": "execute_result"
    }
   ],
   "source": [
    "find_duplicates([1, 3, 4, 2, 2, 3])"
   ]
  },
  {
   "cell_type": "markdown",
   "metadata": {},
   "source": [
    "### <span style=\"color: red;\">Happy Learning!</span>"
   ]
  },
  {
   "cell_type": "markdown",
   "metadata": {},
   "source": [
    "## SQL Interview Questions and Answers\n",
    "\n",
    "For those preparing for SQL interviews, here are some valuable resources to help you understand common SQL queries and scenarios:\n",
    "\n",
    "1. [How to Find the 2nd and 3rd Highest Salaries Using SQL](https://codercatalyst.com/how-to-find-the-2nd-and-3rd-highest-salaries-using-sql/)  \n",
    "   Learn how to write SQL queries to find the second and third highest salaries in a table.\n",
    "\n",
    "\n",
    "2. [SQL Queries to Identify Employees Working Under Multiple Managers](https://codercatalyst.com/employees-working-under-multiple-managers/)  \n",
    "   Understand how to use SQL to find employees who report to more than one manager.\n",
    "\n",
    "\n",
    "3. [Find Employees Who Joined on Same Date & Month: 3 Powerful SQL Methods](https://codercatalyst.com/find-employees-who-joined-same-date-and-month/)  \n",
    "   Explore three different methods to find employees who joined on the same date and month.\n",
    "\n",
    "\n",
    "4. [SQL Query to Find Top 3 Departments with the Highest Average Salary](https://codercatalyst.com/top-3-highest-salaries-sql/)  \n",
    "   Discover how to identify the top three departments with the highest average salary.\n",
    "\n",
    "These resources are excellent for practicing SQL queries and preparing for interviews. Click on the links to dive deeper into each topic and test your skills!\n"
   ]
  }
 ],
 "metadata": {
  "kernelspec": {
   "display_name": "Python 3",
   "language": "python",
   "name": "python3"
  },
  "language_info": {
   "codemirror_mode": {
    "name": "ipython",
    "version": 3
   },
   "file_extension": ".py",
   "mimetype": "text/x-python",
   "name": "python",
   "nbconvert_exporter": "python",
   "pygments_lexer": "ipython3",
   "version": "3.6.9"
  }
 },
 "nbformat": 4,
 "nbformat_minor": 4
}
